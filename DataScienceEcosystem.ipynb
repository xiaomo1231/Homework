{
 "cells": [
  {
   "cell_type": "markdown",
   "id": "e7abdf19-7b18-4a67-bc0b-bf9ebb4feb21",
   "metadata": {},
   "source": [
    "# Data Science Tools and Ecosystem"
   ]
  },
  {
   "cell_type": "markdown",
   "id": "17206b25-5d68-4c22-b0f7-54b3b14692ca",
   "metadata": {},
   "source": [
    "#### This is a normal Data Science Tools and Ecosystem are summarized"
   ]
  },
  {
   "cell_type": "markdown",
   "id": "a36844ef-6166-4dd0-9869-0fac5f70159d",
   "metadata": {},
   "source": [
    "**The language of Data science:** \n",
    "1. SQL\n",
    "2. Python\n",
    "3. R languag\n",
    "4. Java"
   ]
  },
  {
   "cell_type": "markdown",
   "id": "9dcd55f8-6852-4eba-afeb-4ab8f73f9f62",
   "metadata": {},
   "source": [
    "**The data science librarie:**\n",
    "1. Pandas\n",
    "2. Numpy\n",
    "3. Matpoltlib\n",
    "4. Seaborn\n",
    "5. Scikit-learn\n",
    "6. Keras\n",
    "7. TensorFlow\n",
    "8. PyTorch"
   ]
  },
  {
   "cell_type": "markdown",
   "id": "a05434e8-be99-433a-9b57-b246320937f1",
   "metadata": {},
   "source": [
    "\r\n",
    "| Data Science Tools         |\r\n",
    "|----------------------------|\r\n",
    "| Jupyter Notebook           |\r\n",
    "| RStudio                    |\r\n",
    "| Apache Zeppelin            |\r\n"
   ]
  },
  {
   "cell_type": "markdown",
   "id": "03360427-9d25-4442-84b2-2c6b4574688a",
   "metadata": {},
   "source": [
    "| Data Science Tools         |\n",
    "|----------------------------|\n",
    "| Jupyter Notebook           |\n",
    "| RStudio                    |\n",
    "| Apache Zeppelin            |\n",
    "\n",
    "### Below are a few examples of evaluating arithmetic expressions in Python.\n"
   ]
  },
  {
   "cell_type": "markdown",
   "id": "950cf65c-3e7b-4665-92ad-390928ef77eb",
   "metadata": {},
   "source": [
    "### Below are a few examples of evaluating arithmetic expressions in Python"
   ]
  },
  {
   "cell_type": "code",
   "execution_count": 2,
   "id": "744eca22-54d4-430a-ac81-8187166fe98e",
   "metadata": {},
   "outputs": [
    {
     "data": {
      "text/plain": [
       "17"
      ]
     },
     "execution_count": 2,
     "metadata": {},
     "output_type": "execute_result"
    }
   ],
   "source": [
    "# This is a simple arithmetic expression to multiply then add integers.\n",
    "(3*4) + 5\n"
   ]
  },
  {
   "cell_type": "code",
   "execution_count": 4,
   "id": "d89aea0a-e3cb-4844-a788-c6cb26b3c374",
   "metadata": {},
   "outputs": [
    {
     "data": {
      "text/plain": [
       "3.3333333333333335"
      ]
     },
     "execution_count": 4,
     "metadata": {},
     "output_type": "execute_result"
    }
   ],
   "source": [
    "# This will convert 200 minutes to hours by dividing by 60.\n",
    "200 / 60\n"
   ]
  },
  {
   "cell_type": "markdown",
   "id": "6a8498f7-a63c-451a-af23-aecf509ae4e6",
   "metadata": {},
   "source": [
    "### Objectives:\n",
    "* List popular languages for Data Science\r",
    "* List commonly used libraries for Data Science\n",
    "* List Data Science Toolsbook\r\n",
    "\r\n",
    "\r\n",
    "\r\n",
    "\r\n",
    "\r\n"
   ]
  },
  {
   "cell_type": "markdown",
   "id": "68149aa1-51dd-4bfb-9a43-f0b5f1f1a6e1",
   "metadata": {},
   "source": [
    "## Author"
   ]
  },
  {
   "cell_type": "markdown",
   "id": "2dcb89e7-fb26-4e39-b243-a9f295295bc4",
   "metadata": {},
   "source": [
    "#### Yujunfeng"
   ]
  },
  {
   "cell_type": "code",
   "execution_count": null,
   "id": "9faaf698-4566-4282-b300-e82ba9d78fe0",
   "metadata": {},
   "outputs": [],
   "source": []
  }
 ],
 "metadata": {
  "kernelspec": {
   "display_name": "Python 3 (ipykernel)",
   "language": "python",
   "name": "python3"
  },
  "language_info": {
   "codemirror_mode": {
    "name": "ipython",
    "version": 3
   },
   "file_extension": ".py",
   "mimetype": "text/x-python",
   "name": "python",
   "nbconvert_exporter": "python",
   "pygments_lexer": "ipython3",
   "version": "3.11.7"
  }
 },
 "nbformat": 4,
 "nbformat_minor": 5
}
